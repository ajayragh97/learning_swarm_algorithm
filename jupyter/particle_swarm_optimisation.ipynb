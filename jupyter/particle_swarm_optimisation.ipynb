{
 "cells": [
  {
   "cell_type": "code",
   "execution_count": 6,
   "metadata": {},
   "outputs": [
    {
     "name": "stdout",
     "output_type": "stream",
     "text": [
      "Inform the number of iterations: 10\n",
      "Inform the target error: 0.1\n",
      "Inform the number of particles: 50\n"
     ]
    }
   ],
   "source": [
    "#library imports\n",
    "import random\n",
    "import numpy as np\n",
    "\n",
    "#initialising W,c1 and c2\n",
    "W=0.5\n",
    "c1=0.8\n",
    "c2=0.9\n",
    "\n",
    "#inputs\n",
    "n_iterations = int(input(\"Inform the number of iterations: \"))\n",
    "target_error = float(input(\"Inform the target error: \"))\n",
    "n_particles = int(input(\"Inform the number of particles: \"))"
   ]
  },
  {
   "cell_type": "code",
   "execution_count": 7,
   "metadata": {},
   "outputs": [],
   "source": [
    "#function that models the problem\n",
    "def fitness_function(position):\n",
    "    return position[0]**2 + position[1]**2 + 1"
   ]
  },
  {
   "cell_type": "code",
   "execution_count": 8,
   "metadata": {},
   "outputs": [],
   "source": [
    "#class handling the particles\n",
    "class particle ():\n",
    "    def __init__(self):\n",
    "        self.position=np.array([(-1)**(bool(random.getrandbits(1)))*random.random()*50,(-1)**(bool(random.getrandbits(1)))*random.random()*50])\n",
    "        self.pbest_position=self.position\n",
    "        self.pbest_value=float('inf')\n",
    "        self.velocity=np.array([0,0])\n",
    "        \n",
    "    def __str__(self):\n",
    "        print(\"position=\",self.position,\"pbest position=\",self.pbest_position)\n",
    "        \n",
    "    def move(self):\n",
    "        self.position=self.position+self.velocity\n",
    "        "
   ]
  },
  {
   "cell_type": "code",
   "execution_count": 9,
   "metadata": {},
   "outputs": [],
   "source": [
    "#class to handle search space\n",
    "class space():\n",
    "    def __init__(self,target,target_error,n_particles):\n",
    "        self.target=target\n",
    "        self.target_error=target_error\n",
    "        self.n_particles=n_particles\n",
    "        self.particles=[]\n",
    "        self.gbest_value=float('inf')\n",
    "        self.gbest_position=np.array([random.random()*50,random.random()*50])\n",
    "        \n",
    "    def print_particles(self):\n",
    "        for particle in self.particles :\n",
    "            particle.__str__()\n",
    "            \n",
    "    def fitness(self,particles):\n",
    "        return particles.position[0]**2 + particles.position[1]**2+1\n",
    "    \n",
    "    def set_pbest(self):\n",
    "        for particle in self.particles:\n",
    "            fitness_candidate=self.fitness(particle)\n",
    "            if(particle.pbest_value > fitness_candidate):\n",
    "                particle.pbest_value=fitness_candidate\n",
    "                particle.pbest_position=particle.position\n",
    "    \n",
    "    def set_gbest(self):\n",
    "        for particle in self.particles:\n",
    "            best_fitness_candidate=self.fitness(particle)\n",
    "            if(self.gbest_value > best_fitness_candidate):\n",
    "                self.gbest_value=best_fitness_candidate\n",
    "                self.gbest_position=particle.position\n",
    "                \n",
    "           \n",
    "    def move_particles(self):\n",
    "        for particle in self.particles :\n",
    "            global W\n",
    "            new_velocity = (W*particle.velocity) + (c1*random.random()) * (particle.pbest_position - particle.position) + \\\n",
    "                            (random.random()*c2) * (self.gbest_position - particle.position)\n",
    "            particle.velocity=new_velocity\n",
    "            particle.move()"
   ]
  },
  {
   "cell_type": "code",
   "execution_count": 10,
   "metadata": {},
   "outputs": [
    {
     "name": "stdout",
     "output_type": "stream",
     "text": [
      "position= [-13.08750484 -22.86948224] pbest position= [-13.08750484 -22.86948224]\n",
      "position= [-33.82768619  11.32997281] pbest position= [-33.82768619  11.32997281]\n",
      "position= [14.74937872 37.10142505] pbest position= [14.74937872 37.10142505]\n",
      "position= [42.36131639 48.88202403] pbest position= [42.36131639 48.88202403]\n",
      "position= [29.81895561 42.85007918] pbest position= [29.81895561 42.85007918]\n",
      "position= [-20.55810602 -14.89823492] pbest position= [-20.55810602 -14.89823492]\n",
      "position= [-15.69021128  -0.59128755] pbest position= [-15.69021128  -0.59128755]\n",
      "position= [48.51564005 40.49780429] pbest position= [48.51564005 40.49780429]\n",
      "position= [ -7.72731872 -21.7709805 ] pbest position= [ -7.72731872 -21.7709805 ]\n",
      "position= [ 44.49121034 -40.53511092] pbest position= [ 44.49121034 -40.53511092]\n",
      "position= [  7.92467447 -46.17215886] pbest position= [  7.92467447 -46.17215886]\n",
      "position= [40.8580421  27.78036843] pbest position= [40.8580421  27.78036843]\n",
      "position= [  2.26891171 -11.386199  ] pbest position= [  2.26891171 -11.386199  ]\n",
      "position= [1.20706911 1.11440684] pbest position= [1.20706911 1.11440684]\n",
      "position= [39.60758597 45.20689312] pbest position= [39.60758597 45.20689312]\n",
      "position= [ 34.9333329 -49.5095482] pbest position= [ 34.9333329 -49.5095482]\n",
      "position= [ -7.34520039 -12.14308107] pbest position= [ -7.34520039 -12.14308107]\n",
      "position= [44.10852014 15.29246116] pbest position= [44.10852014 15.29246116]\n",
      "position= [ 4.1679536  -4.45811128] pbest position= [ 4.1679536  -4.45811128]\n",
      "position= [ 47.40700521 -20.65872361] pbest position= [ 47.40700521 -20.65872361]\n",
      "position= [ 29.17966862 -27.82565801] pbest position= [ 29.17966862 -27.82565801]\n",
      "position= [ 6.91563119 42.62114874] pbest position= [ 6.91563119 42.62114874]\n",
      "position= [30.752177   18.61660862] pbest position= [30.752177   18.61660862]\n",
      "position= [ -0.85467099 -45.63221852] pbest position= [ -0.85467099 -45.63221852]\n",
      "position= [ 44.47976221 -18.63719265] pbest position= [ 44.47976221 -18.63719265]\n",
      "position= [-19.1834762    4.58529801] pbest position= [-19.1834762    4.58529801]\n",
      "position= [ 27.46275471 -43.94750731] pbest position= [ 27.46275471 -43.94750731]\n",
      "position= [35.32426322 43.55448018] pbest position= [35.32426322 43.55448018]\n",
      "position= [-4.48390118 12.05442615] pbest position= [-4.48390118 12.05442615]\n",
      "position= [11.02830627 10.47032174] pbest position= [11.02830627 10.47032174]\n",
      "position= [-2.1476733  41.84048099] pbest position= [-2.1476733  41.84048099]\n",
      "position= [-48.56754346  -4.01681169] pbest position= [-48.56754346  -4.01681169]\n",
      "position= [19.70834266 22.42682691] pbest position= [19.70834266 22.42682691]\n",
      "position= [33.37163446 24.05692851] pbest position= [33.37163446 24.05692851]\n",
      "position= [-48.45882869  32.09606524] pbest position= [-48.45882869  32.09606524]\n",
      "position= [-44.73446666 -33.2990183 ] pbest position= [-44.73446666 -33.2990183 ]\n",
      "position= [48.99660624 46.32693761] pbest position= [48.99660624 46.32693761]\n",
      "position= [44.65474141 -0.49172535] pbest position= [44.65474141 -0.49172535]\n",
      "position= [ 49.6258489 -43.2956027] pbest position= [ 49.6258489 -43.2956027]\n",
      "position= [10.72909224 26.46036979] pbest position= [10.72909224 26.46036979]\n",
      "position= [-15.99482895  38.11504945] pbest position= [-15.99482895  38.11504945]\n",
      "position= [-23.20136686 -27.08048902] pbest position= [-23.20136686 -27.08048902]\n",
      "position= [-30.8082306  39.6072674] pbest position= [-30.8082306  39.6072674]\n",
      "position= [34.12807008 -0.34891244] pbest position= [34.12807008 -0.34891244]\n",
      "position= [ 33.58966383 -17.26875686] pbest position= [ 33.58966383 -17.26875686]\n",
      "position= [-5.05324755 -8.7979323 ] pbest position= [-5.05324755 -8.7979323 ]\n",
      "position= [ 14.36917943 -32.15190666] pbest position= [ 14.36917943 -32.15190666]\n",
      "position= [-27.98455495  35.00548933] pbest position= [-27.98455495  35.00548933]\n",
      "position= [-6.72357958 47.94744112] pbest position= [-6.72357958 47.94744112]\n",
      "position= [ 42.43681995 -47.21376   ] pbest position= [ 42.43681995 -47.21376   ]\n",
      "the best solution is [-0.2397259  -0.19595689] in n_iterations= 3\n"
     ]
    }
   ],
   "source": [
    "#main loop\n",
    "search_space=space(1,target_error,n_particles)\n",
    "particles_vector=[particle()for _ in range(search_space.n_particles)]\n",
    "search_space.particles=particles_vector\n",
    "search_space.print_particles()\n",
    "\n",
    "iteration = 0\n",
    "while(iteration < n_iterations):\n",
    "    search_space.set_pbest()\n",
    "    search_space.set_gbest()\n",
    "    if(abs(search_space.gbest_value - search_space.target) <= search_space.target_error):\n",
    "        break\n",
    "    search_space.move_particles()\n",
    "    iteration+=1\n",
    "print(\"the best solution is\",search_space.gbest_position,\"in n_iterations=\",iteration)    "
   ]
  },
  {
   "cell_type": "code",
   "execution_count": null,
   "metadata": {
    "collapsed": true
   },
   "outputs": [],
   "source": []
  }
 ],
 "metadata": {
  "kernelspec": {
   "display_name": "Python 3",
   "language": "python",
   "name": "python3"
  },
  "language_info": {
   "codemirror_mode": {
    "name": "ipython",
    "version": 3
   },
   "file_extension": ".py",
   "mimetype": "text/x-python",
   "name": "python",
   "nbconvert_exporter": "python",
   "pygments_lexer": "ipython3",
   "version": "3.6.5"
  }
 },
 "nbformat": 4,
 "nbformat_minor": 2
}
